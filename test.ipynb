{
 "cells": [
  {
   "cell_type": "code",
   "execution_count": null,
   "metadata": {},
   "outputs": [],
   "source": [
    "from argparse import Namespace\n",
    "\n",
    "from setup import ServiceSetup\n",
    "from importer.importer import YTImporter, DailyNewsImporter\n",
    "\n",
    "\n",
    "args= Namespace(\n",
    "    setup='./resources/config.yml',\n",
    "    monitor_list_path=\"./resources/channels.yml\",\n",
    "    page=None, \n",
    "    graph='NewsFeed', \n",
    "    speech_to_text='mlx-whisper', \n",
    "    model_size='small', \n",
    "    lang='zh', \n",
    "    ai_model='claude-3-5-haiku-20241022', \n",
    "    cmd='news', \n",
    "    # yt_link='https://www.youtube.com/watch?v=5BN5Vto_Coo',\n",
    ")\n",
    "\n",
    "proj_setup = ServiceSetup(args.setup)\n",
    "args.proj_setup = proj_setup\n",
    "\n",
    "i = DailyNewsImporter(args).start_import()"
   ]
  },
  {
   "cell_type": "code",
   "execution_count": null,
   "metadata": {},
   "outputs": [],
   "source": [
    "from argparse import Namespace\n",
    "\n",
    "from setup import ServiceSetup\n",
    "from importer.importer import YTImporter, DailyNewsImporter\n",
    "\n",
    "\n",
    "args= Namespace(\n",
    "    setup='./resources/config.yml',\n",
    "    monitor_list_path=\"./resources/channels.yml\",\n",
    "    page=None, \n",
    "    graph='NewsFeed', \n",
    "    speech_to_text='mlx-whisper', \n",
    "    model_size='small', \n",
    "    lang='zh', \n",
    "    ai_model='claude-3-5-haiku-20241022', \n",
    "    cmd='news', \n",
    "    yt_link='https://www.youtube.com/watch?v=7jp4tGv-Ias', # Member only.\n",
    ")\n",
    "\n",
    "proj_setup = ServiceSetup(args.setup)\n",
    "args.proj_setup = proj_setup\n",
    "\n",
    "i = YTImporter(args)\n",
    "i.start_import()\n"
   ]
  },
  {
   "cell_type": "code",
   "execution_count": null,
   "metadata": {},
   "outputs": [],
   "source": [
    "from setup import ServiceSetup\n",
    "from importer.questioner import ClaudeSrtSummary\n",
    "\n",
    "setup = ServiceSetup('./resources/config.yml')\n",
    "c = ClaudeSrtSummary(setup)\n",
    "\n",
    "c.prepare()\n",
    "c.summarize_srt(\"列出所有重要新聞並且摘要文中對新聞的觀點以及敘述\", \"./tmp/audio/和風書院 - 國際新聞評論 2025 03 18 劉必榮教授一周國際新聞評論 中東戰事再起 中俄伊三國副外長級的會議 俄烏戰爭後續 美國遣返這個拉丁美洲的黑幫.srt\")\n"
   ]
  }
 ],
 "metadata": {
  "kernelspec": {
   "display_name": ".venv",
   "language": "python",
   "name": "python3"
  },
  "language_info": {
   "codemirror_mode": {
    "name": "ipython",
    "version": 3
   },
   "file_extension": ".py",
   "mimetype": "text/x-python",
   "name": "python",
   "nbconvert_exporter": "python",
   "pygments_lexer": "ipython3",
   "version": "3.11.6"
  }
 },
 "nbformat": 4,
 "nbformat_minor": 2
}
