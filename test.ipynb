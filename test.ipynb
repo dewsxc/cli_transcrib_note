{
 "cells": [
  {
   "cell_type": "code",
   "execution_count": null,
   "metadata": {},
   "outputs": [],
   "source": [
    "from argparse import Namespace\n",
    "\n",
    "from setup import ServiceSetup\n",
    "from importer.importer import YTImporter\n",
    "\n",
    "\n",
    "args= Namespace(\n",
    "    setup='./resources/config.yml',\n",
    "    page=None, \n",
    "    graph='Test', \n",
    "    speech_to_text='mlx-whisper', \n",
    "    model_size='small', \n",
    "    lang='zh', \n",
    "    ai_model='claude-3-haiku-20240307', \n",
    "    cmd='yt', \n",
    "    yt_link='https://www.youtube.com/watch?v=5BN5Vto_Coo',\n",
    ")\n",
    "\n",
    "proj_setup = ServiceSetup(args.setup)\n",
    "args.proj_setup = proj_setup\n",
    "\n",
    "i = YTImporter(args)\n",
    "i.start_import()"
   ]
  }
 ],
 "metadata": {
  "kernelspec": {
   "display_name": ".venv",
   "language": "python",
   "name": "python3"
  },
  "language_info": {
   "codemirror_mode": {
    "name": "ipython",
    "version": 3
   },
   "file_extension": ".py",
   "mimetype": "text/x-python",
   "name": "python",
   "nbconvert_exporter": "python",
   "pygments_lexer": "ipython3",
   "version": "3.11.6"
  }
 },
 "nbformat": 4,
 "nbformat_minor": 2
}
